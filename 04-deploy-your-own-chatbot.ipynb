{
 "cells": [
  {
   "cell_type": "markdown",
   "id": "e3993515-9710-4ac4-89e9-b35ebb81e920",
   "metadata": {
    "id": "rhqRhkElpJ0z"
   },
   "source": [
    "# Deploy Your Own Chatbot\n",
    "\n",
    "### Deploy your customised ChatGPT Chat Assistant on a website application interface \n",
    "\n",
    "## Setup\n",
    "\n",
    "### 1. Import OpenAI package\n",
    "### 2. Import Gradio package\n",
    "### 3. Link your OpenAI account and get access by inserting our custom API key via the .env file  "
   ]
  },
  {
   "cell_type": "code",
   "execution_count": null,
   "id": "6e24bec8",
   "metadata": {},
   "outputs": [],
   "source": [
    "import openai \n",
    "import gradio\n",
    "import os\n",
    "import dotenv\n",
    "\n",
    "from dotenv import load_dotenv, find_dotenv\n",
    "_ = load_dotenv(find_dotenv()) # read local .env file\n",
    "\n",
    "openai.api_key  = os.getenv('OPENAI_API_KEY')"
   ]
  },
  {
   "cell_type": "markdown",
   "id": "bd019a9f",
   "metadata": {},
   "source": [
    "### 3. Create a \"messages\" list variable where you customise your chatbot\" - e.g., You are a Singlish assistant for Changi Airport passengers matters. \n",
    "### 4. Create a function \"CustomChatGPT\" that talks to the ChatGPT (OpenAI) API and feeds it the user_input to generate a  ChatGPT_reply that is fed back to Gradio. \n",
    "### 5. Write a line to implement Gradio interface. \n",
    "##### - Ensure demo.launch(share=False) is set to FALSE. "
   ]
  },
  {
   "cell_type": "code",
   "execution_count": null,
   "id": "6df18866",
   "metadata": {},
   "outputs": [],
   "source": [
    "messages = [{\"role\": \"system\", \"content\": \"You are a Singlish assistant for Changi Airport passenger matters\"}]\n",
    "\n",
    "def CustomChatGPT(user_input):\n",
    "    messages.append({\"role\": \"user\", \"content\": user_input})\n",
    "    response = openai.ChatCompletion.create(\n",
    "        model = \"gpt-3.5-turbo\",\n",
    "        messages = messages\n",
    "    )\n",
    "    ChatGPT_reply = response[\"choices\"][0][\"message\"][\"content\"]\n",
    "    messages.append({\"role\": \"assistant\", \"content\": ChatGPT_reply})\n",
    "    return ChatGPT_reply\n",
    "\n",
    "demo = gradio.Interface(fn=CustomChatGPT, inputs = \"text\", outputs = \"text\", title = \"Changi Airport Serves You\")\n",
    "\n",
    "demo.launch(share=False)"
   ]
  }
 ],
 "metadata": {
  "kernelspec": {
   "display_name": "Python 3 (ipykernel)",
   "language": "python",
   "name": "python3"
  },
  "language_info": {
   "codemirror_mode": {
    "name": "ipython",
    "version": 3
   },
   "file_extension": ".py",
   "mimetype": "text/x-python",
   "name": "python",
   "nbconvert_exporter": "python",
   "pygments_lexer": "ipython3",
   "version": "3.11.5"
  }
 },
 "nbformat": 4,
 "nbformat_minor": 5
}
